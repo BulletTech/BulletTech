{
 "cells": [
  {
   "cell_type": "markdown",
   "metadata": {},
   "source": [
    "# Dependencies"
   ]
  },
  {
   "cell_type": "code",
   "execution_count": 1,
   "metadata": {},
   "outputs": [],
   "source": [
    "import os\n",
    "import re\n",
    "from datetime import datetime\n"

   ]
  },
  {
   "cell_type": "markdown",
   "metadata": {},
   "source": [
    "# Get posts list"
   ]
  },
  {
   "cell_type": "code",
   "execution_count": 2,
   "metadata": {},
   "outputs": [],
   "source": [
    "Folder_list = ['../Dessert','../Main_Course']"
   ]
  },
  {
   "cell_type": "code",
   "execution_count": 3,
   "metadata": {},
   "outputs": [],
   "source": [
    "Post_list = []"
   ]
  },
  {
   "cell_type": "code",
   "execution_count": 4,
   "metadata": {},
   "outputs": [
    {
     "name": "stdout",
     "output_type": "stream",
     "text": [
      "../Dessert/Hardware/2021-06-03-Mac-mini.md\n",
      "../Dessert/Hardware/2021-01-02-Apple-Watch-S5.md\n",
      "../Dessert/Hardware/2020-04-05-iPad-Pro.md\n",
      "../Dessert/Hardware/2020-03-14-MX-Keys.md\n",
      "../Dessert/Efficiency/2021-07-02-Posting-Workflow.md\n",
      "../Dessert/Apps/2021-06-06-Notion.md\n",
      "../Dessert/Apps/2021-06-15-Hotapps.md\n",
      "../Dessert/.DS_Store\n",
      "../Main_Course/Data_Analytics/2021-06-08-Taobao-Auto-Order-Script.md\n",
      "../Main_Course/Data_Analytics/2021-06-24-DID.md\n",
      "../Main_Course/Data_Analytics/2021-06-14-Wechat-Crawler.md\n",
      "../Main_Course/Analytics_Tools/2021-06-23-Github-Intro.md\n",
      "../Main_Course/One_Day_Build/2021-06-05-blockchain_intro.md\n"
     ]
    }
   ],
   "source": [
    "for folder in Folder_list:\n",
    "    for root, directories, files in os.walk(folder, topdown=False):\n",
    "        for name in files:\n",
    "            print(os.path.join(root, name))\n",
    "            if '.md' in name:\n",
    "                Post_list.append(os.path.join(root, name))"
   ]
  },
  {
   "cell_type": "code",
   "execution_count": 5,
   "metadata": {},
   "outputs": [
    {
     "data": {
      "text/plain": [
       "['../Dessert/Hardware/2021-06-03-Mac-mini.md',\n",
       " '../Dessert/Hardware/2021-01-02-Apple-Watch-S5.md',\n",
       " '../Dessert/Hardware/2020-04-05-iPad-Pro.md',\n",
       " '../Dessert/Hardware/2020-03-14-MX-Keys.md',\n",
       " '../Dessert/Efficiency/2021-07-02-Posting-Workflow.md',\n",
       " '../Dessert/Apps/2021-06-06-Notion.md',\n",
       " '../Dessert/Apps/2021-06-15-Hotapps.md',\n",
       " '../Main_Course/Data_Analytics/2021-06-08-Taobao-Auto-Order-Script.md',\n",
       " '../Main_Course/Data_Analytics/2021-06-24-DID.md',\n",
       " '../Main_Course/Data_Analytics/2021-06-14-Wechat-Crawler.md',\n",
       " '../Main_Course/Analytics_Tools/2021-06-23-Github-Intro.md',\n",
       " '../Main_Course/One_Day_Build/2021-06-05-blockchain_intro.md']"
      ]
     },
     "execution_count": 5,
     "metadata": {},
     "output_type": "execute_result"
    }
   ],
   "source": [
    "Post_list"
   ]
  },
  {
   "cell_type": "markdown",
   "metadata": {},
   "source": [
    "# Update reading time"
   ]
  },
  {
   "cell_type": "code",
   "execution_count": 6,
   "metadata": {},
   "outputs": [
    {
     "name": "stdout",
     "output_type": "stream",
     "text": [
      "2465\n",
      "2179\n",
      "3119\n",
      "1916\n",
      "962\n",
      "1224\n",
      "749\n",
      "862\n",
      "1164\n",
      "1280\n",
      "1093\n",
      "2537\n"
     ]
    }
   ],
   "source": [
    "for post in Post_list:\n",
    "    f = open(post, 'r')\n",
    "    htmlmarkdown=\"\".join(f.readlines())\n",
    "    match = re.search(r'\\d{4}-\\d{2}-\\d{2}', post.split('/')[-1])\n",
    "    date = datetime.strptime(match.group(), '%Y-%m-%d').date()\n",
    "    htmlmarkdown = re.sub(r\"发布于\\d+-\\d+-\\d+，阅读时间\", \"发布于{}，阅读时间\".format(date), htmlmarkdown)\n",
    "    chinese_word = re.findall(r'[\\u4E00-\\u9FFF]',htmlmarkdown)\n",
    "    print(len(chinese_word))\n",
    "    htmlmarkdown = re.sub(r\"阅读时间：约\\d+分钟\", \"阅读时间：约{}分钟\".format(int(len(chinese_word)/200)), htmlmarkdown)\n",
    "    \n",
    "    with open(post, 'w') as new_file:    \n",
    "        new_file.write(htmlmarkdown)"
   ]
  },
  {
   "cell_type": "code",
   "execution_count": null,
   "metadata": {},
   "outputs": [],
   "source": []
  }
 ],
 "metadata": {
  "kernelspec": {
   "display_name": "Python 3.9.1 64-bit",
   "language": "python",
   "name": "python39164bitd9253d0c346146ac831b0d1929453237"
  },
  "language_info": {
   "codemirror_mode": {
    "name": "ipython",
    "version": 3
   },
   "file_extension": ".py",
   "mimetype": "text/x-python",
   "name": "python",
   "nbconvert_exporter": "python",
   "pygments_lexer": "ipython3",
   "version": "3.9.1"
  },
  "toc-autonumbering": true
 },
 "nbformat": 4,
 "nbformat_minor": 4
}
